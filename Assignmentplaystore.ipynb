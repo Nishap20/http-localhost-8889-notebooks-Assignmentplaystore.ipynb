{
 "cells": [
  {
   "cell_type": "code",
   "execution_count": 12,
   "id": "98227d57",
   "metadata": {},
   "outputs": [],
   "source": [
    "import pandas as pd\n",
    "import numpy as np\n",
    "import matplotlib.pyplot as plt\n",
    "import seaborn as sns\n",
    "import warnings\n",
    "warnings.filterwarnings(\"ignore\")\n",
    "%matplotlib inline\n",
    "pd.set_option('display.max_columns',100)"
   ]
  },
  {
   "cell_type": "code",
   "execution_count": 13,
   "id": "82b524e6",
   "metadata": {},
   "outputs": [],
   "source": [
    "import os"
   ]
  },
  {
   "cell_type": "code",
   "execution_count": 14,
   "id": "cfd89066",
   "metadata": {},
   "outputs": [],
   "source": [
    "os.chdir(\"C:/Users/Nisha pujari/Documents/nisha study ds\")"
   ]
  },
  {
   "cell_type": "code",
   "execution_count": 15,
   "id": "26ffc2f1",
   "metadata": {},
   "outputs": [],
   "source": [
    "df=pd.read_csv(\"playstore-analysis.csv\")"
   ]
  },
  {
   "cell_type": "code",
   "execution_count": 16,
   "id": "b2c14f28",
   "metadata": {},
   "outputs": [
    {
     "data": {
      "text/plain": [
       "(10841, 13)"
      ]
     },
     "execution_count": 16,
     "metadata": {},
     "output_type": "execute_result"
    }
   ],
   "source": [
    "df.shape"
   ]
  },
  {
   "cell_type": "code",
   "execution_count": 17,
   "id": "5a9c6fb5",
   "metadata": {},
   "outputs": [
    {
     "data": {
      "text/html": [
       "<div>\n",
       "<style scoped>\n",
       "    .dataframe tbody tr th:only-of-type {\n",
       "        vertical-align: middle;\n",
       "    }\n",
       "\n",
       "    .dataframe tbody tr th {\n",
       "        vertical-align: top;\n",
       "    }\n",
       "\n",
       "    .dataframe thead th {\n",
       "        text-align: right;\n",
       "    }\n",
       "</style>\n",
       "<table border=\"1\" class=\"dataframe\">\n",
       "  <thead>\n",
       "    <tr style=\"text-align: right;\">\n",
       "      <th></th>\n",
       "      <th>App</th>\n",
       "      <th>Category</th>\n",
       "      <th>Rating</th>\n",
       "      <th>Reviews</th>\n",
       "      <th>Size</th>\n",
       "      <th>Installs</th>\n",
       "      <th>Type</th>\n",
       "      <th>Price</th>\n",
       "      <th>Content Rating</th>\n",
       "      <th>Genres</th>\n",
       "      <th>Last Updated</th>\n",
       "      <th>Current Ver</th>\n",
       "      <th>Android Ver</th>\n",
       "    </tr>\n",
       "  </thead>\n",
       "  <tbody>\n",
       "    <tr>\n",
       "      <th>0</th>\n",
       "      <td>Photo Editor &amp; Candy Camera &amp; Grid &amp; ScrapBook</td>\n",
       "      <td>ART_AND_DESIGN</td>\n",
       "      <td>4.1</td>\n",
       "      <td>159</td>\n",
       "      <td>19000.0</td>\n",
       "      <td>10,000+</td>\n",
       "      <td>Free</td>\n",
       "      <td>0</td>\n",
       "      <td>Everyone</td>\n",
       "      <td>Art &amp; Design</td>\n",
       "      <td>January 7, 2018</td>\n",
       "      <td>1.0.0</td>\n",
       "      <td>4.0.3 and up</td>\n",
       "    </tr>\n",
       "    <tr>\n",
       "      <th>1</th>\n",
       "      <td>Coloring book moana</td>\n",
       "      <td>ART_AND_DESIGN</td>\n",
       "      <td>3.9</td>\n",
       "      <td>967</td>\n",
       "      <td>14000.0</td>\n",
       "      <td>500,000+</td>\n",
       "      <td>Free</td>\n",
       "      <td>0</td>\n",
       "      <td>Everyone</td>\n",
       "      <td>Art &amp; Design;Pretend Play</td>\n",
       "      <td>January 15, 2018</td>\n",
       "      <td>2.0.0</td>\n",
       "      <td>4.0.3 and up</td>\n",
       "    </tr>\n",
       "    <tr>\n",
       "      <th>2</th>\n",
       "      <td>U Launcher Lite – FREE Live Cool Themes, Hide ...</td>\n",
       "      <td>ART_AND_DESIGN</td>\n",
       "      <td>4.7</td>\n",
       "      <td>87510</td>\n",
       "      <td>8700.0</td>\n",
       "      <td>5,000,000+</td>\n",
       "      <td>Free</td>\n",
       "      <td>0</td>\n",
       "      <td>Everyone</td>\n",
       "      <td>Art &amp; Design</td>\n",
       "      <td>August 1, 2018</td>\n",
       "      <td>1.2.4</td>\n",
       "      <td>4.0.3 and up</td>\n",
       "    </tr>\n",
       "    <tr>\n",
       "      <th>3</th>\n",
       "      <td>Sketch - Draw &amp; Paint</td>\n",
       "      <td>ART_AND_DESIGN</td>\n",
       "      <td>4.5</td>\n",
       "      <td>215644</td>\n",
       "      <td>25000.0</td>\n",
       "      <td>50,000,000+</td>\n",
       "      <td>Free</td>\n",
       "      <td>0</td>\n",
       "      <td>Teen</td>\n",
       "      <td>Art &amp; Design</td>\n",
       "      <td>June 8, 2018</td>\n",
       "      <td>Varies with device</td>\n",
       "      <td>4.2 and up</td>\n",
       "    </tr>\n",
       "    <tr>\n",
       "      <th>4</th>\n",
       "      <td>Pixel Draw - Number Art Coloring Book</td>\n",
       "      <td>ART_AND_DESIGN</td>\n",
       "      <td>4.3</td>\n",
       "      <td>967</td>\n",
       "      <td>2800.0</td>\n",
       "      <td>100,000+</td>\n",
       "      <td>Free</td>\n",
       "      <td>0</td>\n",
       "      <td>Everyone</td>\n",
       "      <td>Art &amp; Design;Creativity</td>\n",
       "      <td>June 20, 2018</td>\n",
       "      <td>1.1</td>\n",
       "      <td>4.4 and up</td>\n",
       "    </tr>\n",
       "  </tbody>\n",
       "</table>\n",
       "</div>"
      ],
      "text/plain": [
       "                                                 App        Category  Rating  \\\n",
       "0     Photo Editor & Candy Camera & Grid & ScrapBook  ART_AND_DESIGN     4.1   \n",
       "1                                Coloring book moana  ART_AND_DESIGN     3.9   \n",
       "2  U Launcher Lite – FREE Live Cool Themes, Hide ...  ART_AND_DESIGN     4.7   \n",
       "3                              Sketch - Draw & Paint  ART_AND_DESIGN     4.5   \n",
       "4              Pixel Draw - Number Art Coloring Book  ART_AND_DESIGN     4.3   \n",
       "\n",
       "  Reviews     Size     Installs  Type Price Content Rating  \\\n",
       "0     159  19000.0      10,000+  Free     0       Everyone   \n",
       "1     967  14000.0     500,000+  Free     0       Everyone   \n",
       "2   87510   8700.0   5,000,000+  Free     0       Everyone   \n",
       "3  215644  25000.0  50,000,000+  Free     0           Teen   \n",
       "4     967   2800.0     100,000+  Free     0       Everyone   \n",
       "\n",
       "                      Genres      Last Updated         Current Ver  \\\n",
       "0               Art & Design   January 7, 2018               1.0.0   \n",
       "1  Art & Design;Pretend Play  January 15, 2018               2.0.0   \n",
       "2               Art & Design    August 1, 2018               1.2.4   \n",
       "3               Art & Design      June 8, 2018  Varies with device   \n",
       "4    Art & Design;Creativity     June 20, 2018                 1.1   \n",
       "\n",
       "    Android Ver  \n",
       "0  4.0.3 and up  \n",
       "1  4.0.3 and up  \n",
       "2  4.0.3 and up  \n",
       "3    4.2 and up  \n",
       "4    4.4 and up  "
      ]
     },
     "execution_count": 17,
     "metadata": {},
     "output_type": "execute_result"
    }
   ],
   "source": [
    "df.head()"
   ]
  },
  {
   "cell_type": "markdown",
   "id": "380a989d",
   "metadata": {},
   "source": [
    "## 1. Data clean up – Missing value treatment"
   ]
  },
  {
   "cell_type": "markdown",
   "id": "aebc7588",
   "metadata": {},
   "source": [
    "#### a. Drop records where rating is missing since rating is our target/study variable\n",
    "#### answer- dropped the records where rating was missing and checked"
   ]
  },
  {
   "cell_type": "code",
   "execution_count": 18,
   "id": "3173c659",
   "metadata": {},
   "outputs": [],
   "source": [
    "df=df.dropna(subset=['Rating'])"
   ]
  },
  {
   "cell_type": "code",
   "execution_count": 19,
   "id": "d0a0dd7b",
   "metadata": {},
   "outputs": [
    {
     "data": {
      "text/plain": [
       "App               0\n",
       "Category          0\n",
       "Rating            0\n",
       "Reviews           0\n",
       "Size              0\n",
       "Installs          0\n",
       "Type              0\n",
       "Price             0\n",
       "Content Rating    1\n",
       "Genres            0\n",
       "Last Updated      0\n",
       "Current Ver       4\n",
       "Android Ver       3\n",
       "dtype: int64"
      ]
     },
     "execution_count": 19,
     "metadata": {},
     "output_type": "execute_result"
    }
   ],
   "source": [
    "df.isnull().sum()"
   ]
  },
  {
   "cell_type": "code",
   "execution_count": 20,
   "id": "5aeb8cfe",
   "metadata": {},
   "outputs": [
    {
     "data": {
      "text/plain": [
       "(9367, 13)"
      ]
     },
     "execution_count": 20,
     "metadata": {},
     "output_type": "execute_result"
    }
   ],
   "source": [
    "df.shape"
   ]
  },
  {
   "cell_type": "markdown",
   "id": "37e824d7",
   "metadata": {},
   "source": [
    "####  b. Check the null values for the Android Ver column\n",
    "####  Answer- 3 null values found in 'Android ver' column"
   ]
  },
  {
   "cell_type": "code",
   "execution_count": 21,
   "id": "ce9e7f4e",
   "metadata": {},
   "outputs": [
    {
     "data": {
      "text/plain": [
       "3"
      ]
     },
     "execution_count": 21,
     "metadata": {},
     "output_type": "execute_result"
    }
   ],
   "source": [
    "df['Android Ver'].isnull().sum()"
   ]
  },
  {
   "cell_type": "markdown",
   "id": "387f5665",
   "metadata": {},
   "source": [
    "#### i. Are all 3 records having the same problem?\n",
    "#### Answer- first 2 records  have null value at only column of 'Android Ver' whereas third record has null value at 2 columns namely 'Android Ver' and 'Content Rating' and checked"
   ]
  },
  {
   "cell_type": "code",
   "execution_count": 22,
   "id": "0c72d6aa",
   "metadata": {},
   "outputs": [
    {
     "data": {
      "text/html": [
       "<div>\n",
       "<style scoped>\n",
       "    .dataframe tbody tr th:only-of-type {\n",
       "        vertical-align: middle;\n",
       "    }\n",
       "\n",
       "    .dataframe tbody tr th {\n",
       "        vertical-align: top;\n",
       "    }\n",
       "\n",
       "    .dataframe thead th {\n",
       "        text-align: right;\n",
       "    }\n",
       "</style>\n",
       "<table border=\"1\" class=\"dataframe\">\n",
       "  <thead>\n",
       "    <tr style=\"text-align: right;\">\n",
       "      <th></th>\n",
       "      <th>App</th>\n",
       "      <th>Category</th>\n",
       "      <th>Rating</th>\n",
       "      <th>Reviews</th>\n",
       "      <th>Size</th>\n",
       "      <th>Installs</th>\n",
       "      <th>Type</th>\n",
       "      <th>Price</th>\n",
       "      <th>Content Rating</th>\n",
       "      <th>Genres</th>\n",
       "      <th>Last Updated</th>\n",
       "      <th>Current Ver</th>\n",
       "      <th>Android Ver</th>\n",
       "    </tr>\n",
       "  </thead>\n",
       "  <tbody>\n",
       "    <tr>\n",
       "      <th>4453</th>\n",
       "      <td>[substratum] Vacuum: P</td>\n",
       "      <td>PERSONALIZATION</td>\n",
       "      <td>4.4</td>\n",
       "      <td>230</td>\n",
       "      <td>11000.000000</td>\n",
       "      <td>1,000+</td>\n",
       "      <td>Paid</td>\n",
       "      <td>$1.49</td>\n",
       "      <td>Everyone</td>\n",
       "      <td>Personalization</td>\n",
       "      <td>July 20, 2018</td>\n",
       "      <td>4.4</td>\n",
       "      <td>NaN</td>\n",
       "    </tr>\n",
       "    <tr>\n",
       "      <th>4490</th>\n",
       "      <td>Pi Dark [substratum]</td>\n",
       "      <td>PERSONALIZATION</td>\n",
       "      <td>4.5</td>\n",
       "      <td>189</td>\n",
       "      <td>2100.000000</td>\n",
       "      <td>10,000+</td>\n",
       "      <td>Free</td>\n",
       "      <td>0</td>\n",
       "      <td>Everyone</td>\n",
       "      <td>Personalization</td>\n",
       "      <td>March 27, 2018</td>\n",
       "      <td>1.1</td>\n",
       "      <td>NaN</td>\n",
       "    </tr>\n",
       "    <tr>\n",
       "      <th>10472</th>\n",
       "      <td>Life Made WI-Fi Touchscreen Photo Frame</td>\n",
       "      <td>1.9</td>\n",
       "      <td>19.0</td>\n",
       "      <td>3.0M</td>\n",
       "      <td>21516.529524</td>\n",
       "      <td>Free</td>\n",
       "      <td>0</td>\n",
       "      <td>Everyone</td>\n",
       "      <td>NaN</td>\n",
       "      <td>February 11, 2018</td>\n",
       "      <td>1.0.19</td>\n",
       "      <td>4.0 and up</td>\n",
       "      <td>NaN</td>\n",
       "    </tr>\n",
       "  </tbody>\n",
       "</table>\n",
       "</div>"
      ],
      "text/plain": [
       "                                           App         Category  Rating  \\\n",
       "4453                    [substratum] Vacuum: P  PERSONALIZATION     4.4   \n",
       "4490                      Pi Dark [substratum]  PERSONALIZATION     4.5   \n",
       "10472  Life Made WI-Fi Touchscreen Photo Frame              1.9    19.0   \n",
       "\n",
       "      Reviews          Size Installs  Type     Price Content Rating  \\\n",
       "4453      230  11000.000000   1,000+  Paid     $1.49       Everyone   \n",
       "4490      189   2100.000000  10,000+  Free         0       Everyone   \n",
       "10472    3.0M  21516.529524     Free     0  Everyone            NaN   \n",
       "\n",
       "                  Genres    Last Updated Current Ver Android Ver  \n",
       "4453     Personalization   July 20, 2018         4.4         NaN  \n",
       "4490     Personalization  March 27, 2018         1.1         NaN  \n",
       "10472  February 11, 2018          1.0.19  4.0 and up         NaN  "
      ]
     },
     "execution_count": 22,
     "metadata": {},
     "output_type": "execute_result"
    }
   ],
   "source": [
    "df1=df[df['Android Ver'].isnull()]\n",
    "df1"
   ]
  },
  {
   "cell_type": "markdown",
   "id": "bfc3155d",
   "metadata": {},
   "source": [
    "#### ii. Drop the 3rd record i.e. record for “Life Made WIFI …”\n",
    "#### answer- rowno 10472 is dropped having null values at content rating and android ver,shape of df has changed from (9367,13) to (9366,13),also by checking the app is not found in dataframe and checked"
   ]
  },
  {
   "cell_type": "code",
   "execution_count": 23,
   "id": "062b8f0b",
   "metadata": {},
   "outputs": [
    {
     "data": {
      "text/plain": [
       "(9366, 13)"
      ]
     },
     "execution_count": 23,
     "metadata": {},
     "output_type": "execute_result"
    }
   ],
   "source": [
    "df=df.drop(labels=10472, axis=0)\n",
    "df.shape"
   ]
  },
  {
   "cell_type": "code",
   "execution_count": 24,
   "id": "4a618a22",
   "metadata": {},
   "outputs": [
    {
     "data": {
      "text/html": [
       "<div>\n",
       "<style scoped>\n",
       "    .dataframe tbody tr th:only-of-type {\n",
       "        vertical-align: middle;\n",
       "    }\n",
       "\n",
       "    .dataframe tbody tr th {\n",
       "        vertical-align: top;\n",
       "    }\n",
       "\n",
       "    .dataframe thead th {\n",
       "        text-align: right;\n",
       "    }\n",
       "</style>\n",
       "<table border=\"1\" class=\"dataframe\">\n",
       "  <thead>\n",
       "    <tr style=\"text-align: right;\">\n",
       "      <th></th>\n",
       "      <th>App</th>\n",
       "      <th>Category</th>\n",
       "      <th>Rating</th>\n",
       "      <th>Reviews</th>\n",
       "      <th>Size</th>\n",
       "      <th>Installs</th>\n",
       "      <th>Type</th>\n",
       "      <th>Price</th>\n",
       "      <th>Content Rating</th>\n",
       "      <th>Genres</th>\n",
       "      <th>Last Updated</th>\n",
       "      <th>Current Ver</th>\n",
       "      <th>Android Ver</th>\n",
       "    </tr>\n",
       "  </thead>\n",
       "  <tbody>\n",
       "  </tbody>\n",
       "</table>\n",
       "</div>"
      ],
      "text/plain": [
       "Empty DataFrame\n",
       "Columns: [App, Category, Rating, Reviews, Size, Installs, Type, Price, Content Rating, Genres, Last Updated, Current Ver, Android Ver]\n",
       "Index: []"
      ]
     },
     "execution_count": 24,
     "metadata": {},
     "output_type": "execute_result"
    }
   ],
   "source": [
    "df.loc[(df['App'] == 'Life Made WI-Fi Touchscreen Photo Frame')]"
   ]
  },
  {
   "cell_type": "markdown",
   "id": "458a0a7a",
   "metadata": {},
   "source": [
    "#### iii. Replace remaining missing values with the mode\n",
    "#### answer- replaced remaining missing values in android ver with mode and checked"
   ]
  },
  {
   "cell_type": "code",
   "execution_count": 25,
   "id": "04a193cc",
   "metadata": {},
   "outputs": [],
   "source": [
    "df['Android Ver'] = df['Android Ver'].fillna(df['Android Ver'].mode()[0])"
   ]
  },
  {
   "cell_type": "code",
   "execution_count": 26,
   "id": "de22ad8e",
   "metadata": {},
   "outputs": [
    {
     "data": {
      "text/html": [
       "<div>\n",
       "<style scoped>\n",
       "    .dataframe tbody tr th:only-of-type {\n",
       "        vertical-align: middle;\n",
       "    }\n",
       "\n",
       "    .dataframe tbody tr th {\n",
       "        vertical-align: top;\n",
       "    }\n",
       "\n",
       "    .dataframe thead th {\n",
       "        text-align: right;\n",
       "    }\n",
       "</style>\n",
       "<table border=\"1\" class=\"dataframe\">\n",
       "  <thead>\n",
       "    <tr style=\"text-align: right;\">\n",
       "      <th></th>\n",
       "      <th>App</th>\n",
       "      <th>Category</th>\n",
       "      <th>Rating</th>\n",
       "      <th>Reviews</th>\n",
       "      <th>Size</th>\n",
       "      <th>Installs</th>\n",
       "      <th>Type</th>\n",
       "      <th>Price</th>\n",
       "      <th>Content Rating</th>\n",
       "      <th>Genres</th>\n",
       "      <th>Last Updated</th>\n",
       "      <th>Current Ver</th>\n",
       "      <th>Android Ver</th>\n",
       "    </tr>\n",
       "  </thead>\n",
       "  <tbody>\n",
       "    <tr>\n",
       "      <th>4453</th>\n",
       "      <td>[substratum] Vacuum: P</td>\n",
       "      <td>PERSONALIZATION</td>\n",
       "      <td>4.4</td>\n",
       "      <td>230</td>\n",
       "      <td>11000.0</td>\n",
       "      <td>1,000+</td>\n",
       "      <td>Paid</td>\n",
       "      <td>$1.49</td>\n",
       "      <td>Everyone</td>\n",
       "      <td>Personalization</td>\n",
       "      <td>July 20, 2018</td>\n",
       "      <td>4.4</td>\n",
       "      <td>4.1 and up</td>\n",
       "    </tr>\n",
       "  </tbody>\n",
       "</table>\n",
       "</div>"
      ],
      "text/plain": [
       "                         App         Category  Rating Reviews     Size  \\\n",
       "4453  [substratum] Vacuum: P  PERSONALIZATION     4.4     230  11000.0   \n",
       "\n",
       "     Installs  Type  Price Content Rating           Genres   Last Updated  \\\n",
       "4453   1,000+  Paid  $1.49       Everyone  Personalization  July 20, 2018   \n",
       "\n",
       "     Current Ver Android Ver  \n",
       "4453         4.4  4.1 and up  "
      ]
     },
     "execution_count": 26,
     "metadata": {},
     "output_type": "execute_result"
    }
   ],
   "source": [
    "df.loc[(df['App'] == '[substratum] Vacuum: P')]#after replacing null vakues at android ver with mode"
   ]
  },
  {
   "cell_type": "code",
   "execution_count": 27,
   "id": "c738393d",
   "metadata": {},
   "outputs": [
    {
     "data": {
      "text/html": [
       "<div>\n",
       "<style scoped>\n",
       "    .dataframe tbody tr th:only-of-type {\n",
       "        vertical-align: middle;\n",
       "    }\n",
       "\n",
       "    .dataframe tbody tr th {\n",
       "        vertical-align: top;\n",
       "    }\n",
       "\n",
       "    .dataframe thead th {\n",
       "        text-align: right;\n",
       "    }\n",
       "</style>\n",
       "<table border=\"1\" class=\"dataframe\">\n",
       "  <thead>\n",
       "    <tr style=\"text-align: right;\">\n",
       "      <th></th>\n",
       "      <th>App</th>\n",
       "      <th>Category</th>\n",
       "      <th>Rating</th>\n",
       "      <th>Reviews</th>\n",
       "      <th>Size</th>\n",
       "      <th>Installs</th>\n",
       "      <th>Type</th>\n",
       "      <th>Price</th>\n",
       "      <th>Content Rating</th>\n",
       "      <th>Genres</th>\n",
       "      <th>Last Updated</th>\n",
       "      <th>Current Ver</th>\n",
       "      <th>Android Ver</th>\n",
       "    </tr>\n",
       "  </thead>\n",
       "  <tbody>\n",
       "    <tr>\n",
       "      <th>4490</th>\n",
       "      <td>Pi Dark [substratum]</td>\n",
       "      <td>PERSONALIZATION</td>\n",
       "      <td>4.5</td>\n",
       "      <td>189</td>\n",
       "      <td>2100.0</td>\n",
       "      <td>10,000+</td>\n",
       "      <td>Free</td>\n",
       "      <td>0</td>\n",
       "      <td>Everyone</td>\n",
       "      <td>Personalization</td>\n",
       "      <td>March 27, 2018</td>\n",
       "      <td>1.1</td>\n",
       "      <td>4.1 and up</td>\n",
       "    </tr>\n",
       "  </tbody>\n",
       "</table>\n",
       "</div>"
      ],
      "text/plain": [
       "                       App         Category  Rating Reviews    Size Installs  \\\n",
       "4490  Pi Dark [substratum]  PERSONALIZATION     4.5     189  2100.0  10,000+   \n",
       "\n",
       "      Type Price Content Rating           Genres    Last Updated Current Ver  \\\n",
       "4490  Free     0       Everyone  Personalization  March 27, 2018         1.1   \n",
       "\n",
       "     Android Ver  \n",
       "4490  4.1 and up  "
      ]
     },
     "execution_count": 27,
     "metadata": {},
     "output_type": "execute_result"
    }
   ],
   "source": [
    "df.loc[(df['App'] == 'Pi Dark [substratum]')]#after replacing null vakues at android ver with mode"
   ]
  },
  {
   "cell_type": "markdown",
   "id": "305a6a30",
   "metadata": {},
   "source": [
    "#### c. Current ver – replace with most common value\n",
    "#### answer- replaced the null values in current ver column with mode values in same column and checked"
   ]
  },
  {
   "cell_type": "code",
   "execution_count": 28,
   "id": "3731f81b",
   "metadata": {},
   "outputs": [
    {
     "data": {
      "text/html": [
       "<div>\n",
       "<style scoped>\n",
       "    .dataframe tbody tr th:only-of-type {\n",
       "        vertical-align: middle;\n",
       "    }\n",
       "\n",
       "    .dataframe tbody tr th {\n",
       "        vertical-align: top;\n",
       "    }\n",
       "\n",
       "    .dataframe thead th {\n",
       "        text-align: right;\n",
       "    }\n",
       "</style>\n",
       "<table border=\"1\" class=\"dataframe\">\n",
       "  <thead>\n",
       "    <tr style=\"text-align: right;\">\n",
       "      <th></th>\n",
       "      <th>App</th>\n",
       "      <th>Category</th>\n",
       "      <th>Rating</th>\n",
       "      <th>Reviews</th>\n",
       "      <th>Size</th>\n",
       "      <th>Installs</th>\n",
       "      <th>Type</th>\n",
       "      <th>Price</th>\n",
       "      <th>Content Rating</th>\n",
       "      <th>Genres</th>\n",
       "      <th>Last Updated</th>\n",
       "      <th>Current Ver</th>\n",
       "      <th>Android Ver</th>\n",
       "    </tr>\n",
       "  </thead>\n",
       "  <tbody>\n",
       "    <tr>\n",
       "      <th>15</th>\n",
       "      <td>Learn To Draw Kawaii Characters</td>\n",
       "      <td>ART_AND_DESIGN</td>\n",
       "      <td>3.2</td>\n",
       "      <td>55</td>\n",
       "      <td>2700.0</td>\n",
       "      <td>5,000+</td>\n",
       "      <td>Free</td>\n",
       "      <td>0</td>\n",
       "      <td>Everyone</td>\n",
       "      <td>Art &amp; Design</td>\n",
       "      <td>June 6, 2018</td>\n",
       "      <td>NaN</td>\n",
       "      <td>4.2 and up</td>\n",
       "    </tr>\n",
       "    <tr>\n",
       "      <th>1553</th>\n",
       "      <td>Market Update Helper</td>\n",
       "      <td>LIBRARIES_AND_DEMO</td>\n",
       "      <td>4.1</td>\n",
       "      <td>20145</td>\n",
       "      <td>11.0</td>\n",
       "      <td>1,000,000+</td>\n",
       "      <td>Free</td>\n",
       "      <td>0</td>\n",
       "      <td>Everyone</td>\n",
       "      <td>Libraries &amp; Demo</td>\n",
       "      <td>February 12, 2013</td>\n",
       "      <td>NaN</td>\n",
       "      <td>1.5 and up</td>\n",
       "    </tr>\n",
       "    <tr>\n",
       "      <th>6322</th>\n",
       "      <td>Virtual DJ Sound Mixer</td>\n",
       "      <td>TOOLS</td>\n",
       "      <td>4.2</td>\n",
       "      <td>4010</td>\n",
       "      <td>8700.0</td>\n",
       "      <td>500,000+</td>\n",
       "      <td>Free</td>\n",
       "      <td>0</td>\n",
       "      <td>Everyone</td>\n",
       "      <td>Tools</td>\n",
       "      <td>May 10, 2017</td>\n",
       "      <td>NaN</td>\n",
       "      <td>4.0 and up</td>\n",
       "    </tr>\n",
       "    <tr>\n",
       "      <th>7333</th>\n",
       "      <td>Dots puzzle</td>\n",
       "      <td>FAMILY</td>\n",
       "      <td>4.0</td>\n",
       "      <td>179</td>\n",
       "      <td>14000.0</td>\n",
       "      <td>50,000+</td>\n",
       "      <td>Paid</td>\n",
       "      <td>$0.99</td>\n",
       "      <td>Everyone</td>\n",
       "      <td>Puzzle</td>\n",
       "      <td>April 18, 2018</td>\n",
       "      <td>NaN</td>\n",
       "      <td>4.0 and up</td>\n",
       "    </tr>\n",
       "  </tbody>\n",
       "</table>\n",
       "</div>"
      ],
      "text/plain": [
       "                                  App            Category  Rating Reviews  \\\n",
       "15    Learn To Draw Kawaii Characters      ART_AND_DESIGN     3.2      55   \n",
       "1553             Market Update Helper  LIBRARIES_AND_DEMO     4.1   20145   \n",
       "6322           Virtual DJ Sound Mixer               TOOLS     4.2    4010   \n",
       "7333                      Dots puzzle              FAMILY     4.0     179   \n",
       "\n",
       "         Size    Installs  Type  Price Content Rating            Genres  \\\n",
       "15     2700.0      5,000+  Free      0       Everyone      Art & Design   \n",
       "1553     11.0  1,000,000+  Free      0       Everyone  Libraries & Demo   \n",
       "6322   8700.0    500,000+  Free      0       Everyone             Tools   \n",
       "7333  14000.0     50,000+  Paid  $0.99       Everyone            Puzzle   \n",
       "\n",
       "           Last Updated Current Ver Android Ver  \n",
       "15         June 6, 2018         NaN  4.2 and up  \n",
       "1553  February 12, 2013         NaN  1.5 and up  \n",
       "6322       May 10, 2017         NaN  4.0 and up  \n",
       "7333     April 18, 2018         NaN  4.0 and up  "
      ]
     },
     "execution_count": 28,
     "metadata": {},
     "output_type": "execute_result"
    }
   ],
   "source": [
    "dcurv=df[df['Current Ver'].isnull()]#before replcing null values with mode\n",
    "dcurv"
   ]
  },
  {
   "cell_type": "code",
   "execution_count": 29,
   "id": "0da09c5a",
   "metadata": {},
   "outputs": [
    {
     "data": {
      "text/html": [
       "<div>\n",
       "<style scoped>\n",
       "    .dataframe tbody tr th:only-of-type {\n",
       "        vertical-align: middle;\n",
       "    }\n",
       "\n",
       "    .dataframe tbody tr th {\n",
       "        vertical-align: top;\n",
       "    }\n",
       "\n",
       "    .dataframe thead th {\n",
       "        text-align: right;\n",
       "    }\n",
       "</style>\n",
       "<table border=\"1\" class=\"dataframe\">\n",
       "  <thead>\n",
       "    <tr style=\"text-align: right;\">\n",
       "      <th></th>\n",
       "      <th>App</th>\n",
       "      <th>Category</th>\n",
       "      <th>Rating</th>\n",
       "      <th>Reviews</th>\n",
       "      <th>Size</th>\n",
       "      <th>Installs</th>\n",
       "      <th>Type</th>\n",
       "      <th>Price</th>\n",
       "      <th>Content Rating</th>\n",
       "      <th>Genres</th>\n",
       "      <th>Last Updated</th>\n",
       "      <th>Current Ver</th>\n",
       "      <th>Android Ver</th>\n",
       "    </tr>\n",
       "  </thead>\n",
       "  <tbody>\n",
       "  </tbody>\n",
       "</table>\n",
       "</div>"
      ],
      "text/plain": [
       "Empty DataFrame\n",
       "Columns: [App, Category, Rating, Reviews, Size, Installs, Type, Price, Content Rating, Genres, Last Updated, Current Ver, Android Ver]\n",
       "Index: []"
      ]
     },
     "execution_count": 29,
     "metadata": {},
     "output_type": "execute_result"
    }
   ],
   "source": [
    "df['Current Ver'] = df['Current Ver'].fillna(df['Current Ver'].mode()[0])\n",
    "dcurv=df[df['Current Ver'].isnull()]\n",
    "dcurv#after replacing null values with mode\n"
   ]
  },
  {
   "cell_type": "code",
   "execution_count": 30,
   "id": "e43508b2",
   "metadata": {},
   "outputs": [
    {
     "data": {
      "text/html": [
       "<div>\n",
       "<style scoped>\n",
       "    .dataframe tbody tr th:only-of-type {\n",
       "        vertical-align: middle;\n",
       "    }\n",
       "\n",
       "    .dataframe tbody tr th {\n",
       "        vertical-align: top;\n",
       "    }\n",
       "\n",
       "    .dataframe thead th {\n",
       "        text-align: right;\n",
       "    }\n",
       "</style>\n",
       "<table border=\"1\" class=\"dataframe\">\n",
       "  <thead>\n",
       "    <tr style=\"text-align: right;\">\n",
       "      <th></th>\n",
       "      <th>App</th>\n",
       "      <th>Category</th>\n",
       "      <th>Rating</th>\n",
       "      <th>Reviews</th>\n",
       "      <th>Size</th>\n",
       "      <th>Installs</th>\n",
       "      <th>Type</th>\n",
       "      <th>Price</th>\n",
       "      <th>Content Rating</th>\n",
       "      <th>Genres</th>\n",
       "      <th>Last Updated</th>\n",
       "      <th>Current Ver</th>\n",
       "      <th>Android Ver</th>\n",
       "    </tr>\n",
       "  </thead>\n",
       "  <tbody>\n",
       "    <tr>\n",
       "      <th>15</th>\n",
       "      <td>Learn To Draw Kawaii Characters</td>\n",
       "      <td>ART_AND_DESIGN</td>\n",
       "      <td>3.2</td>\n",
       "      <td>55</td>\n",
       "      <td>2700.0</td>\n",
       "      <td>5,000+</td>\n",
       "      <td>Free</td>\n",
       "      <td>0</td>\n",
       "      <td>Everyone</td>\n",
       "      <td>Art &amp; Design</td>\n",
       "      <td>June 6, 2018</td>\n",
       "      <td>Varies with device</td>\n",
       "      <td>4.2 and up</td>\n",
       "    </tr>\n",
       "  </tbody>\n",
       "</table>\n",
       "</div>"
      ],
      "text/plain": [
       "                                App        Category  Rating Reviews    Size  \\\n",
       "15  Learn To Draw Kawaii Characters  ART_AND_DESIGN     3.2      55  2700.0   \n",
       "\n",
       "   Installs  Type Price Content Rating        Genres  Last Updated  \\\n",
       "15   5,000+  Free     0       Everyone  Art & Design  June 6, 2018   \n",
       "\n",
       "           Current Ver Android Ver  \n",
       "15  Varies with device  4.2 and up  "
      ]
     },
     "execution_count": 30,
     "metadata": {},
     "output_type": "execute_result"
    }
   ],
   "source": [
    "df.loc[(df['App'] == 'Learn To Draw Kawaii Characters')]#current ver has been replaced with mode"
   ]
  },
  {
   "cell_type": "markdown",
   "id": "f6bd1877",
   "metadata": {},
   "source": [
    "## 2. Data clean up – correcting the data types"
   ]
  },
  {
   "cell_type": "markdown",
   "id": "0c6722e4",
   "metadata": {},
   "source": [
    "#### a. Which all variables need to be brought to numeric types?\n",
    "#### answer- 1)there are 11 variables namely 'App', 'Category', 'Reviews', 'Installs', 'Type', 'Price','Content Rating', 'Genres', 'Last Updated', 'Current Ver','Android Ver' having variable as object type.\n",
    "#### 2)Out of these 11 variables 3variables namely  'Reviews', 'Installs', 'Price' must be converted to numeric type for further analysis as they are quantitative variables"
   ]
  },
  {
   "cell_type": "code",
   "execution_count": 31,
   "id": "5a97cd29",
   "metadata": {},
   "outputs": [
    {
     "data": {
      "text/plain": [
       "array(['App', 'Category', 'Reviews', 'Installs', 'Type', 'Price',\n",
       "       'Content Rating', 'Genres', 'Last Updated', 'Current Ver',\n",
       "       'Android Ver'], dtype=object)"
      ]
     },
     "execution_count": 31,
     "metadata": {},
     "output_type": "execute_result"
    }
   ],
   "source": [
    "df.dtypes[df.dtypes == \"object\"].index.values"
   ]
  },
  {
   "cell_type": "code",
   "execution_count": 32,
   "id": "f59a4cef",
   "metadata": {},
   "outputs": [
    {
     "data": {
      "text/plain": [
       "11"
      ]
     },
     "execution_count": 32,
     "metadata": {},
     "output_type": "execute_result"
    }
   ],
   "source": [
    "len(df.dtypes[df.dtypes == \"object\"].index.values)"
   ]
  },
  {
   "cell_type": "markdown",
   "id": "df13daa0",
   "metadata": {},
   "source": [
    "#### b. Price variable – remove dollar sign and convert to float\n",
    "#### answer- Replaced the dollar sign with empty string in price column and then converted price column datatype into float and checked\n"
   ]
  },
  {
   "cell_type": "code",
   "execution_count": 33,
   "id": "eef7154d",
   "metadata": {},
   "outputs": [],
   "source": [
    "#removing $sign in price column\n",
    "df['Price'] = df['Price'].apply(lambda x : str(x).replace('$', ''))\n"
   ]
  },
  {
   "cell_type": "code",
   "execution_count": 34,
   "id": "619cd2ec",
   "metadata": {},
   "outputs": [
    {
     "data": {
      "text/plain": [
       "array(['0', '4.99', '3.99', '6.99', '7.99', '5.99', '2.99', '3.49',\n",
       "       '1.99', '9.99', '7.49', '0.99', '9.00', '5.49', '10.00', '24.99',\n",
       "       '11.99', '79.99', '16.99', '14.99', '29.99', '12.99', '2.49',\n",
       "       '10.99', '1.50', '19.99', '15.99', '33.99', '39.99', '3.95',\n",
       "       '4.49', '1.70', '8.99', '1.49', '3.88', '399.99', '17.99',\n",
       "       '400.00', '3.02', '1.76', '4.84', '4.77', '1.61', '2.50', '1.59',\n",
       "       '6.49', '1.29', '299.99', '379.99', '37.99', '18.99', '389.99',\n",
       "       '8.49', '1.75', '14.00', '2.00', '3.08', '2.59', '19.40', '3.90',\n",
       "       '4.59', '15.46', '3.04', '13.99', '4.29', '3.28', '4.60', '1.00',\n",
       "       '2.95', '2.90', '1.97', '2.56', '1.20'], dtype=object)"
      ]
     },
     "execution_count": 34,
     "metadata": {},
     "output_type": "execute_result"
    }
   ],
   "source": [
    "df['Price'].unique()#after removing $ sign,replced $with empty string"
   ]
  },
  {
   "cell_type": "code",
   "execution_count": 35,
   "id": "7c3ae617",
   "metadata": {},
   "outputs": [
    {
     "data": {
      "text/plain": [
       "dtype('float64')"
      ]
     },
     "execution_count": 35,
     "metadata": {},
     "output_type": "execute_result"
    }
   ],
   "source": [
    "df['Price']=df['Price'].astype(float)\n",
    "df['Price'].dtypes#after converting datatype of Price column into float"
   ]
  },
  {
   "cell_type": "markdown",
   "id": "9615877e",
   "metadata": {},
   "source": [
    "#### c. Installs – remove ‘,’ and ‘+’ sign, convert to integer\n",
    "#### answer-answer- Replaced the , and + sign with empty string in price column and then converted price column datatype into float and checked\n"
   ]
  },
  {
   "cell_type": "code",
   "execution_count": 36,
   "id": "371f6ef6",
   "metadata": {},
   "outputs": [],
   "source": [
    "df['Installs'] = df['Installs'].apply(lambda x : str(x).replace(',',''))"
   ]
  },
  {
   "cell_type": "code",
   "execution_count": 37,
   "id": "5ba61ac0",
   "metadata": {},
   "outputs": [],
   "source": [
    "df['Installs'] = df['Installs'].apply(lambda x : str(x).replace('+',''))"
   ]
  },
  {
   "cell_type": "code",
   "execution_count": 38,
   "id": "0c397f44",
   "metadata": {},
   "outputs": [
    {
     "data": {
      "text/plain": [
       "array(['10000', '500000', '5000000', '50000000', '100000', '50000',\n",
       "       '1000000', '10000000', '5000', '100000000', '1000000000', '1000',\n",
       "       '500000000', '100', '500', '10', '5', '50', '1'], dtype=object)"
      ]
     },
     "execution_count": 38,
     "metadata": {},
     "output_type": "execute_result"
    }
   ],
   "source": [
    "df['Installs'].unique()"
   ]
  },
  {
   "cell_type": "code",
   "execution_count": 39,
   "id": "a5e5fbe5",
   "metadata": {},
   "outputs": [
    {
     "data": {
      "text/plain": [
       "dtype('float64')"
      ]
     },
     "execution_count": 39,
     "metadata": {},
     "output_type": "execute_result"
    }
   ],
   "source": [
    "df['Installs']=df['Installs'].astype(float)\n",
    "df['Installs'].dtypes#after converting datatype of Installs column into float"
   ]
  },
  {
   "cell_type": "markdown",
   "id": "9ab8f57c",
   "metadata": {},
   "source": [
    "#### d. Convert all other identified columns to numeric\n",
    "#### answer- as found earlier review column is also quantitative and remained to convert into float ,the same is converted to float and checked"
   ]
  },
  {
   "cell_type": "code",
   "execution_count": 40,
   "id": "2d272582",
   "metadata": {},
   "outputs": [
    {
     "data": {
      "text/plain": [
       "dtype('float64')"
      ]
     },
     "execution_count": 40,
     "metadata": {},
     "output_type": "execute_result"
    }
   ],
   "source": [
    "df['Reviews']=df['Reviews'].astype(float)\n",
    "df['Reviews'].dtypes"
   ]
  },
  {
   "cell_type": "markdown",
   "id": "81f5931c",
   "metadata": {},
   "source": [
    "## 3. Sanity checks – check for the following and handle accordingly\n",
    "#### a. Avg. rating should be between 1 and 5, as only these values are allowed on the play store.\n",
    "#### i. Are there any such records? Drop if so.\n",
    "#### answer- Ratings column cross checked by unique values and 5 point summary,it is observed min value of rating is 1 and max value is 5"
   ]
  },
  {
   "cell_type": "code",
   "execution_count": 41,
   "id": "52fde9a4",
   "metadata": {},
   "outputs": [
    {
     "name": "stdout",
     "output_type": "stream",
     "text": [
      "[4.1 3.9 4.7 4.5 4.3 4.4 3.8 4.2 4.6 3.2 4.  4.8 4.9 3.6 3.7 3.3 3.4 3.5\n",
      " 3.1 5.  2.6 3.  1.9 2.5 2.8 2.7 1.  2.9 2.3 2.2 1.7 2.  1.8 2.4 1.6 2.1\n",
      " 1.4 1.5 1.2]\n"
     ]
    },
    {
     "data": {
      "text/plain": [
       "count    9366.000000\n",
       "mean        4.191757\n",
       "std         0.515219\n",
       "min         1.000000\n",
       "25%         4.000000\n",
       "50%         4.300000\n",
       "75%         4.500000\n",
       "max         5.000000\n",
       "Name: Rating, dtype: float64"
      ]
     },
     "execution_count": 41,
     "metadata": {},
     "output_type": "execute_result"
    }
   ],
   "source": [
    "print(df['Rating'].unique())\n",
    "df['Rating'].describe()"
   ]
  },
  {
   "cell_type": "markdown",
   "id": "23033d43",
   "metadata": {},
   "source": [
    "#### b. Reviews should not be more than installs as only those who installed can review the app.\n",
    "#### i. Are there any such records? Drop if so.\n",
    "#### answer- records having more reviews than installs have been found out and dropped and checked"
   ]
  },
  {
   "cell_type": "code",
   "execution_count": 42,
   "id": "a37c4135",
   "metadata": {},
   "outputs": [
    {
     "name": "stdout",
     "output_type": "stream",
     "text": [
      "7\n"
     ]
    },
    {
     "data": {
      "text/html": [
       "<div>\n",
       "<style scoped>\n",
       "    .dataframe tbody tr th:only-of-type {\n",
       "        vertical-align: middle;\n",
       "    }\n",
       "\n",
       "    .dataframe tbody tr th {\n",
       "        vertical-align: top;\n",
       "    }\n",
       "\n",
       "    .dataframe thead th {\n",
       "        text-align: right;\n",
       "    }\n",
       "</style>\n",
       "<table border=\"1\" class=\"dataframe\">\n",
       "  <thead>\n",
       "    <tr style=\"text-align: right;\">\n",
       "      <th></th>\n",
       "      <th>App</th>\n",
       "      <th>Category</th>\n",
       "      <th>Rating</th>\n",
       "      <th>Reviews</th>\n",
       "      <th>Size</th>\n",
       "      <th>Installs</th>\n",
       "      <th>Type</th>\n",
       "      <th>Price</th>\n",
       "      <th>Content Rating</th>\n",
       "      <th>Genres</th>\n",
       "      <th>Last Updated</th>\n",
       "      <th>Current Ver</th>\n",
       "      <th>Android Ver</th>\n",
       "    </tr>\n",
       "  </thead>\n",
       "  <tbody>\n",
       "    <tr>\n",
       "      <th>2454</th>\n",
       "      <td>KBA-EZ Health Guide</td>\n",
       "      <td>MEDICAL</td>\n",
       "      <td>5.0</td>\n",
       "      <td>4.0</td>\n",
       "      <td>25000.000000</td>\n",
       "      <td>1.0</td>\n",
       "      <td>Free</td>\n",
       "      <td>0.00</td>\n",
       "      <td>Everyone</td>\n",
       "      <td>Medical</td>\n",
       "      <td>August 2, 2018</td>\n",
       "      <td>1.0.72</td>\n",
       "      <td>4.0.3 and up</td>\n",
       "    </tr>\n",
       "    <tr>\n",
       "      <th>4663</th>\n",
       "      <td>Alarmy (Sleep If U Can) - Pro</td>\n",
       "      <td>LIFESTYLE</td>\n",
       "      <td>4.8</td>\n",
       "      <td>10249.0</td>\n",
       "      <td>21516.529524</td>\n",
       "      <td>10000.0</td>\n",
       "      <td>Paid</td>\n",
       "      <td>2.49</td>\n",
       "      <td>Everyone</td>\n",
       "      <td>Lifestyle</td>\n",
       "      <td>July 30, 2018</td>\n",
       "      <td>Varies with device</td>\n",
       "      <td>Varies with device</td>\n",
       "    </tr>\n",
       "    <tr>\n",
       "      <th>5917</th>\n",
       "      <td>Ra Ga Ba</td>\n",
       "      <td>GAME</td>\n",
       "      <td>5.0</td>\n",
       "      <td>2.0</td>\n",
       "      <td>20000.000000</td>\n",
       "      <td>1.0</td>\n",
       "      <td>Paid</td>\n",
       "      <td>1.49</td>\n",
       "      <td>Everyone</td>\n",
       "      <td>Arcade</td>\n",
       "      <td>February 8, 2017</td>\n",
       "      <td>1.0.4</td>\n",
       "      <td>2.3 and up</td>\n",
       "    </tr>\n",
       "    <tr>\n",
       "      <th>6700</th>\n",
       "      <td>Brick Breaker BR</td>\n",
       "      <td>GAME</td>\n",
       "      <td>5.0</td>\n",
       "      <td>7.0</td>\n",
       "      <td>19000.000000</td>\n",
       "      <td>5.0</td>\n",
       "      <td>Free</td>\n",
       "      <td>0.00</td>\n",
       "      <td>Everyone</td>\n",
       "      <td>Arcade</td>\n",
       "      <td>July 23, 2018</td>\n",
       "      <td>1.0</td>\n",
       "      <td>4.1 and up</td>\n",
       "    </tr>\n",
       "    <tr>\n",
       "      <th>7402</th>\n",
       "      <td>Trovami se ci riesci</td>\n",
       "      <td>GAME</td>\n",
       "      <td>5.0</td>\n",
       "      <td>11.0</td>\n",
       "      <td>6100.000000</td>\n",
       "      <td>10.0</td>\n",
       "      <td>Free</td>\n",
       "      <td>0.00</td>\n",
       "      <td>Everyone</td>\n",
       "      <td>Arcade</td>\n",
       "      <td>March 11, 2017</td>\n",
       "      <td>0.1</td>\n",
       "      <td>2.3 and up</td>\n",
       "    </tr>\n",
       "    <tr>\n",
       "      <th>8591</th>\n",
       "      <td>DN Blog</td>\n",
       "      <td>SOCIAL</td>\n",
       "      <td>5.0</td>\n",
       "      <td>20.0</td>\n",
       "      <td>4200.000000</td>\n",
       "      <td>10.0</td>\n",
       "      <td>Free</td>\n",
       "      <td>0.00</td>\n",
       "      <td>Teen</td>\n",
       "      <td>Social</td>\n",
       "      <td>July 23, 2018</td>\n",
       "      <td>1.0</td>\n",
       "      <td>4.0 and up</td>\n",
       "    </tr>\n",
       "    <tr>\n",
       "      <th>10697</th>\n",
       "      <td>Mu.F.O.</td>\n",
       "      <td>GAME</td>\n",
       "      <td>5.0</td>\n",
       "      <td>2.0</td>\n",
       "      <td>16000.000000</td>\n",
       "      <td>1.0</td>\n",
       "      <td>Paid</td>\n",
       "      <td>0.99</td>\n",
       "      <td>Everyone</td>\n",
       "      <td>Arcade</td>\n",
       "      <td>March 3, 2017</td>\n",
       "      <td>1.0</td>\n",
       "      <td>2.3 and up</td>\n",
       "    </tr>\n",
       "  </tbody>\n",
       "</table>\n",
       "</div>"
      ],
      "text/plain": [
       "                                 App   Category  Rating  Reviews  \\\n",
       "2454             KBA-EZ Health Guide    MEDICAL     5.0      4.0   \n",
       "4663   Alarmy (Sleep If U Can) - Pro  LIFESTYLE     4.8  10249.0   \n",
       "5917                        Ra Ga Ba       GAME     5.0      2.0   \n",
       "6700                Brick Breaker BR       GAME     5.0      7.0   \n",
       "7402            Trovami se ci riesci       GAME     5.0     11.0   \n",
       "8591                         DN Blog     SOCIAL     5.0     20.0   \n",
       "10697                        Mu.F.O.       GAME     5.0      2.0   \n",
       "\n",
       "               Size  Installs  Type  Price Content Rating     Genres  \\\n",
       "2454   25000.000000       1.0  Free   0.00       Everyone    Medical   \n",
       "4663   21516.529524   10000.0  Paid   2.49       Everyone  Lifestyle   \n",
       "5917   20000.000000       1.0  Paid   1.49       Everyone     Arcade   \n",
       "6700   19000.000000       5.0  Free   0.00       Everyone     Arcade   \n",
       "7402    6100.000000      10.0  Free   0.00       Everyone     Arcade   \n",
       "8591    4200.000000      10.0  Free   0.00           Teen     Social   \n",
       "10697  16000.000000       1.0  Paid   0.99       Everyone     Arcade   \n",
       "\n",
       "           Last Updated         Current Ver         Android Ver  \n",
       "2454     August 2, 2018              1.0.72        4.0.3 and up  \n",
       "4663      July 30, 2018  Varies with device  Varies with device  \n",
       "5917   February 8, 2017               1.0.4          2.3 and up  \n",
       "6700      July 23, 2018                 1.0          4.1 and up  \n",
       "7402     March 11, 2017                 0.1          2.3 and up  \n",
       "8591      July 23, 2018                 1.0          4.0 and up  \n",
       "10697     March 3, 2017                 1.0          2.3 and up  "
      ]
     },
     "execution_count": 42,
     "metadata": {},
     "output_type": "execute_result"
    }
   ],
   "source": [
    "df1=df.loc[df['Installs'] < df['Reviews']]\n",
    "print(len(df1))\n",
    "df1#7 installs found and verified"
   ]
  },
  {
   "cell_type": "code",
   "execution_count": 43,
   "id": "b7c34b3e",
   "metadata": {},
   "outputs": [],
   "source": [
    "df=df.drop(labels=[2454,4663,5917,6700,7402,8591,10697],axis=0)"
   ]
  },
  {
   "cell_type": "code",
   "execution_count": 44,
   "id": "033a4150",
   "metadata": {},
   "outputs": [
    {
     "data": {
      "text/html": [
       "<div>\n",
       "<style scoped>\n",
       "    .dataframe tbody tr th:only-of-type {\n",
       "        vertical-align: middle;\n",
       "    }\n",
       "\n",
       "    .dataframe tbody tr th {\n",
       "        vertical-align: top;\n",
       "    }\n",
       "\n",
       "    .dataframe thead th {\n",
       "        text-align: right;\n",
       "    }\n",
       "</style>\n",
       "<table border=\"1\" class=\"dataframe\">\n",
       "  <thead>\n",
       "    <tr style=\"text-align: right;\">\n",
       "      <th></th>\n",
       "      <th>App</th>\n",
       "      <th>Category</th>\n",
       "      <th>Rating</th>\n",
       "      <th>Reviews</th>\n",
       "      <th>Size</th>\n",
       "      <th>Installs</th>\n",
       "      <th>Type</th>\n",
       "      <th>Price</th>\n",
       "      <th>Content Rating</th>\n",
       "      <th>Genres</th>\n",
       "      <th>Last Updated</th>\n",
       "      <th>Current Ver</th>\n",
       "      <th>Android Ver</th>\n",
       "    </tr>\n",
       "  </thead>\n",
       "  <tbody>\n",
       "  </tbody>\n",
       "</table>\n",
       "</div>"
      ],
      "text/plain": [
       "Empty DataFrame\n",
       "Columns: [App, Category, Rating, Reviews, Size, Installs, Type, Price, Content Rating, Genres, Last Updated, Current Ver, Android Ver]\n",
       "Index: []"
      ]
     },
     "execution_count": 44,
     "metadata": {},
     "output_type": "execute_result"
    }
   ],
   "source": [
    "df.loc[(df['App'] == 'KBA-EZ Health Guide')]#rows with having more reviews than installs have been dropped"
   ]
  },
  {
   "cell_type": "markdown",
   "id": "acfd1a33",
   "metadata": {},
   "source": [
    "## 4. Identify and handle outliers –\n",
    "## a. Price column\n",
    "#### i. Make suitable plot to identify outliers in price\n",
    "#### answer- boxplot used to identify outliers "
   ]
  },
  {
   "cell_type": "code",
   "execution_count": 45,
   "id": "d35ddbd2",
   "metadata": {},
   "outputs": [
    {
     "data": {
      "text/plain": [
       "<AxesSubplot:xlabel='Price'>"
      ]
     },
     "execution_count": 45,
     "metadata": {},
     "output_type": "execute_result"
    },
    {
     "data": {
      "image/png": "[encoded data removed]",
      "text/plain": [
       "<Figure size 432x288 with 1 Axes>"
      ]
     },
     "metadata": {
      "needs_background": "light"
     },
     "output_type": "display_data"
    }
   ],
   "source": [
    "sns.boxplot(df['Price'])"
   ]
  },
  {
   "cell_type": "code",
   "execution_count": 46,
   "id": "f5cd5a5f",
   "metadata": {},
   "outputs": [
    {
     "name": "stdout",
     "output_type": "stream",
     "text": [
      "14\n"
     ]
    }
   ],
   "source": [
    "df1=df.loc[df['Price'] > 300]\n",
    "print(len(df1))\n"
   ]
  },
  {
   "cell_type": "markdown",
   "id": "d926bdc8",
   "metadata": {},
   "source": [
    "#### ii. Do you expect apps on the play store to cost  dollar 200? Check out these cases\n",
    "#### answer- 15 records found where price is above dollar 200"
   ]
  },
  {
   "cell_type": "code",
   "execution_count": 47,
   "id": "5ac32d5c",
   "metadata": {},
   "outputs": [
    {
     "name": "stdout",
     "output_type": "stream",
     "text": [
      "15\n"
     ]
    }
   ],
   "source": [
    "df1=df.loc[df['Price'] > 200]\n",
    "print(len(df1))"
   ]
  },
  {
   "cell_type": "markdown",
   "id": "5a27fb9e",
   "metadata": {},
   "source": [
    "#### iii. After dropping the useless records, make the suitable plot again to identify outliers\n",
    "#### answer-dropped records having price more than 200 dollars and checked again"
   ]
  },
  {
   "cell_type": "code",
   "execution_count": 48,
   "id": "57a426e2",
   "metadata": {},
   "outputs": [],
   "source": [
    "df.drop(df[df['Price'] >200].index, inplace = True)"
   ]
  },
  {
   "cell_type": "code",
   "execution_count": 49,
   "id": "099088fd",
   "metadata": {},
   "outputs": [
    {
     "name": "stdout",
     "output_type": "stream",
     "text": [
      "0\n"
     ]
    }
   ],
   "source": [
    "df1=df.loc[df['Price'] > 200]#checkin records after dropping records with price more than 200 dollars\n",
    "print(len(df1))"
   ]
  },
  {
   "cell_type": "code",
   "execution_count": 50,
   "id": "3a3052ea",
   "metadata": {},
   "outputs": [
    {
     "data": {
      "text/plain": [
       "<AxesSubplot:xlabel='Price'>"
      ]
     },
     "execution_count": 50,
     "metadata": {},
     "output_type": "execute_result"
    },
    {
     "data": {
      "image/png": "[encoded data removed]",
      "text/plain": [
       "<Figure size 432x288 with 1 Axes>"
      ]
     },
     "metadata": {
      "needs_background": "light"
     },
     "output_type": "display_data"
    }
   ],
   "source": [
    "sns.boxplot(df['Price'])"
   ]
  },
  {
   "cell_type": "markdown",
   "id": "e0325f32",
   "metadata": {},
   "source": [
    "#### v. Limit data to records with price < dollar 30\n",
    "#### answer- records having price more than 30dollars removed and verified"
   ]
  },
  {
   "cell_type": "code",
   "execution_count": 51,
   "id": "ddcafecb",
   "metadata": {},
   "outputs": [],
   "source": [
    "df.drop(df[df['Price'] >= 30].index, inplace = True)"
   ]
  },
  {
   "cell_type": "code",
   "execution_count": 52,
   "id": "c549073f",
   "metadata": {},
   "outputs": [
    {
     "data": {
      "text/plain": [
       "count    9338.000000\n",
       "mean        0.301915\n",
       "std         1.669887\n",
       "min         0.000000\n",
       "25%         0.000000\n",
       "50%         0.000000\n",
       "75%         0.000000\n",
       "max        29.990000\n",
       "Name: Price, dtype: float64"
      ]
     },
     "execution_count": 52,
     "metadata": {},
     "output_type": "execute_result"
    }
   ],
   "source": [
    "df['Price'].describe()"
   ]
  },
  {
   "cell_type": "markdown",
   "id": "436faedb",
   "metadata": {},
   "source": [
    "## b. Reviews column\n",
    "#### i. Make suitable plot\n",
    "#### answer- boxplot plotted and observed records present upto reviews having 78million reords"
   ]
  },
  {
   "cell_type": "code",
   "execution_count": 53,
   "id": "143afade",
   "metadata": {},
   "outputs": [
    {
     "data": {
      "text/plain": [
       "<AxesSubplot:xlabel='Reviews'>"
      ]
     },
     "execution_count": 53,
     "metadata": {},
     "output_type": "execute_result"
    },
    {
     "data": {
      "image/png": "[encoded data removed]",
      "text/plain": [
       "<Figure size 432x288 with 1 Axes>"
      ]
     },
     "metadata": {
      "needs_background": "light"
     },
     "output_type": "display_data"
    }
   ],
   "source": [
    "sns.boxplot(df['Reviews'])"
   ]
  },
  {
   "cell_type": "code",
   "execution_count": 54,
   "id": "8b1da5ff",
   "metadata": {},
   "outputs": [
    {
     "data": {
      "text/plain": [
       "count    9.338000e+03\n",
       "mean     5.155891e+05\n",
       "std      3.148627e+06\n",
       "min      1.000000e+00\n",
       "25%      1.890000e+02\n",
       "50%      6.011500e+03\n",
       "75%      8.247100e+04\n",
       "max      7.815831e+07\n",
       "Name: Reviews, dtype: float64"
      ]
     },
     "execution_count": 54,
     "metadata": {},
     "output_type": "execute_result"
    }
   ],
   "source": [
    "df['Reviews'].describe()"
   ]
  },
  {
   "cell_type": "markdown",
   "id": "56e84a4d",
   "metadata": {},
   "source": [
    "#### ii. Limit data to apps with < 1 Million reviews\n",
    "#### answer- dropped records having reviews more than 1million reviews"
   ]
  },
  {
   "cell_type": "code",
   "execution_count": 55,
   "id": "31451d2b",
   "metadata": {},
   "outputs": [
    {
     "data": {
      "text/plain": [
       "(9338, 13)"
      ]
     },
     "execution_count": 55,
     "metadata": {},
     "output_type": "execute_result"
    }
   ],
   "source": [
    "df.shape#before removing records above 1 million reviews"
   ]
  },
  {
   "cell_type": "code",
   "execution_count": 56,
   "id": "b19c7305",
   "metadata": {},
   "outputs": [],
   "source": [
    "df.drop(df[df['Reviews'] > 1000000].index, inplace = True)"
   ]
  },
  {
   "cell_type": "code",
   "execution_count": 57,
   "id": "a727af89",
   "metadata": {},
   "outputs": [
    {
     "data": {
      "text/plain": [
       "count      8634.000000\n",
       "mean      68383.348853\n",
       "std      156335.806417\n",
       "min           1.000000\n",
       "25%         143.250000\n",
       "50%        3641.000000\n",
       "75%       46070.500000\n",
       "max      995002.000000\n",
       "Name: Reviews, dtype: float64"
      ]
     },
     "execution_count": 57,
     "metadata": {},
     "output_type": "execute_result"
    }
   ],
   "source": [
    "df['Reviews'].describe()"
   ]
  },
  {
   "cell_type": "code",
   "execution_count": 58,
   "id": "9370249b",
   "metadata": {},
   "outputs": [
    {
     "data": {
      "text/plain": [
       "(8634, 13)"
      ]
     },
     "execution_count": 58,
     "metadata": {},
     "output_type": "execute_result"
    }
   ],
   "source": [
    "df.shape"
   ]
  },
  {
   "cell_type": "markdown",
   "id": "92f99e78",
   "metadata": {},
   "source": [
    "## c. Installs\n",
    "#### i. What is the 95th percentile of the installs?\n",
    "#### answer-95th Percentile of Installs is 10000000.0"
   ]
  },
  {
   "cell_type": "code",
   "execution_count": 59,
   "id": "b7cbef98",
   "metadata": {},
   "outputs": [
    {
     "name": "stdout",
     "output_type": "stream",
     "text": [
      "95th Percentile of Installs is 10000000.0\n"
     ]
    }
   ],
   "source": [
    "p95=np.percentile(df['Installs'],95)\n",
    "print('95th Percentile of Installs is',p95)"
   ]
  },
  {
   "cell_type": "markdown",
   "id": "e00dc056",
   "metadata": {},
   "source": [
    "#### ii. Drop records having a value more than the 95th percentile\n",
    "#### answer- records having installs above the 95th percentile dropped and checked "
   ]
  },
  {
   "cell_type": "code",
   "execution_count": 60,
   "id": "05c69ed7",
   "metadata": {},
   "outputs": [],
   "source": [
    "df.drop(df[df['Installs'] > 10000000 ].index,inplace=True)"
   ]
  },
  {
   "cell_type": "code",
   "execution_count": 61,
   "id": "1d8444ae",
   "metadata": {},
   "outputs": [
    {
     "data": {
      "text/plain": [
       "count    8.435000e+03\n",
       "mean     2.077916e+06\n",
       "std      3.474289e+06\n",
       "min      5.000000e+00\n",
       "25%      1.000000e+04\n",
       "50%      1.000000e+05\n",
       "75%      1.000000e+06\n",
       "max      1.000000e+07\n",
       "Name: Installs, dtype: float64"
      ]
     },
     "execution_count": 61,
     "metadata": {},
     "output_type": "execute_result"
    }
   ],
   "source": [
    "df['Installs'].describe()"
   ]
  },
  {
   "cell_type": "code",
   "execution_count": 62,
   "id": "d7e9e2e5",
   "metadata": {},
   "outputs": [
    {
     "data": {
      "text/plain": [
       "(8435, 13)"
      ]
     },
     "execution_count": 62,
     "metadata": {},
     "output_type": "execute_result"
    }
   ],
   "source": [
    "df.shape"
   ]
  },
  {
   "cell_type": "markdown",
   "id": "133fde69",
   "metadata": {},
   "source": [
    "## Data analysis to answer business questions\n",
    "## 5. What is the distribution of ratings like? (use Seaborn) More skewed towards higher/lower values?\n",
    "#### a. How do you explain this?\n",
    "#### answer- The ratings plot indicates a right skewed distribution which shows mean is greater than median and mode .Maximum number of reviews are less than 2lakhs reviews which concludes 'reviews' data is skewed towards lower values ."
   ]
  },
  {
   "cell_type": "code",
   "execution_count": 63,
   "id": "7209760d",
   "metadata": {},
   "outputs": [
    {
     "data": {
      "text/plain": [
       "<AxesSubplot:xlabel='Reviews', ylabel='Density'>"
      ]
     },
     "execution_count": 63,
     "metadata": {},
     "output_type": "execute_result"
    },
    {
     "data": {
      "image/png": "[encoded data removed]",
      "text/plain": [
       "<Figure size 432x288 with 1 Axes>"
      ]
     },
     "metadata": {
      "needs_background": "light"
     },
     "output_type": "display_data"
    }
   ],
   "source": [
    "sns.distplot(df['Reviews'])"
   ]
  },
  {
   "cell_type": "code",
   "execution_count": 64,
   "id": "8fc49b17",
   "metadata": {},
   "outputs": [
    {
     "name": "stdout",
     "output_type": "stream",
     "text": [
      "mean is 56876.14783639597\n",
      "median is 3187.0\n",
      "mode is 2.0\n"
     ]
    },
    {
     "data": {
      "text/plain": [
       "count      8435.000000\n",
       "mean      56876.147836\n",
       "std      131976.112675\n",
       "min           1.000000\n",
       "25%         132.000000\n",
       "50%        3187.000000\n",
       "75%       40218.000000\n",
       "max      995002.000000\n",
       "Name: Reviews, dtype: float64"
      ]
     },
     "execution_count": 64,
     "metadata": {},
     "output_type": "execute_result"
    }
   ],
   "source": [
    "import statistics as st\n",
    "print('mean is',np.mean(df['Reviews']))\n",
    "print('median is',np.median(df['Reviews']))\n",
    "print('mode is',st.mode(df['Reviews']))\n",
    "df['Reviews'].describe()"
   ]
  },
  {
   "cell_type": "markdown",
   "id": "4c23ab62",
   "metadata": {},
   "source": [
    "#### b. What is the implication of this on your analysis?\n",
    "#### answer- The analysis on Reviews column shows the data is a right skewed distribution which shows mean is greater than median and mode .Maximum number of reviews are less than 2lakhs reviews which concludes 'reviews' data is skewed towards lower values and this variable must not be considered to use this data for recommending 'similar apps','you might also like' apps.\n"
   ]
  },
  {
   "cell_type": "markdown",
   "id": "b5c43576",
   "metadata": {},
   "source": [
    "## 6. What are the top Content Rating values?\n",
    "#### a. Are there any values with very few records?\n",
    "#### answer-The values 'Adults only 18+','Unrated' have very few records 3 and 1 respectively calculating to less than 1percent of data."
   ]
  },
  {
   "cell_type": "code",
   "execution_count": 65,
   "id": "a9313bcd",
   "metadata": {},
   "outputs": [
    {
     "data": {
      "text/plain": [
       "Everyone           80.403082\n",
       "Teen               10.669828\n",
       "Mature 17+          4.943687\n",
       "Everyone 10+        3.935981\n",
       "Adults only 18+     0.035566\n",
       "Unrated             0.011855\n",
       "Name: Content Rating, dtype: float64"
      ]
     },
     "execution_count": 65,
     "metadata": {},
     "output_type": "execute_result"
    }
   ],
   "source": [
    "df['Content Rating'].value_counts(normalize=True)*100"
   ]
  },
  {
   "cell_type": "markdown",
   "id": "5ccf8a0b",
   "metadata": {},
   "source": [
    "#### b. If yes, drop those as they won’t help in the analysis\n",
    "#### answer- dropped and checked the records having 'unrated' and 'adults only 18+' values"
   ]
  },
  {
   "cell_type": "code",
   "execution_count": 66,
   "id": "636b5f71",
   "metadata": {},
   "outputs": [],
   "source": [
    "df.drop(df[df['Content Rating'] == 'Adults only 18+'].index,inplace=True)"
   ]
  },
  {
   "cell_type": "code",
   "execution_count": 67,
   "id": "fff0f99b",
   "metadata": {},
   "outputs": [],
   "source": [
    "df.drop(df[df['Content Rating'] == 'Unrated'].index,inplace=True)"
   ]
  },
  {
   "cell_type": "code",
   "execution_count": 68,
   "id": "fcfb4521",
   "metadata": {},
   "outputs": [
    {
     "data": {
      "text/plain": [
       "array(['Everyone', 'Teen', 'Everyone 10+', 'Mature 17+'], dtype=object)"
      ]
     },
     "execution_count": 68,
     "metadata": {},
     "output_type": "execute_result"
    }
   ],
   "source": [
    "df['Content Rating'].unique()#checking after dropping records with'unrated 'and 'adults only 18+' "
   ]
  },
  {
   "cell_type": "markdown",
   "id": "4491d5f9",
   "metadata": {},
   "source": [
    "## 7. Effect of size on rating\n",
    "#### a. Make a joinplot to understand the effect of size on rating"
   ]
  },
  {
   "cell_type": "code",
   "execution_count": 69,
   "id": "a5fcd65a",
   "metadata": {},
   "outputs": [
    {
     "data": {
      "text/plain": [
       "<seaborn.axisgrid.JointGrid at 0x19a31216850>"
      ]
     },
     "execution_count": 69,
     "metadata": {},
     "output_type": "execute_result"
    },
    {
     "data": {
      "image/png": "[encoded data removed]",
      "text/plain": [
       "<Figure size 432x432 with 3 Axes>"
      ]
     },
     "metadata": {
      "needs_background": "light"
     },
     "output_type": "display_data"
    }
   ],
   "source": [
    "sns.jointplot(x=df['Rating'],y=df['Size'],data=df,kind='reg')"
   ]
  },
  {
   "cell_type": "markdown",
   "id": "9486483f",
   "metadata": {},
   "source": [
    "#### b. Do you see any patterns?\n"
   ]
  },
  {
   "cell_type": "markdown",
   "id": "9677ba26",
   "metadata": {},
   "source": [
    "#### Answer- b- * firstly the scatter plot derived in centre shows that there is no solid relationship between' Rating' and 'size'\n",
    "####           * Secondly the distribution of 'rating' plotted on top of plot horizontally shows the distribution is left skewed towards                          rating 3.5 and 5 which indicates max apps have been rated in between 4 and 4.5.\n",
    "####           * Thirdly the distribution of 'size' plotted on right of plot vertically shows the distribution is right skewed towards                                  size 0 and 40000 which indicates max apps have been sized in between 0 and 40000."
   ]
  },
  {
   "cell_type": "markdown",
   "id": "cbf054e7",
   "metadata": {},
   "source": [
    "#### c. How do you explain the pattern?"
   ]
  },
  {
   "cell_type": "markdown",
   "id": "3eb0e280",
   "metadata": {},
   "source": [
    "#### Answer- The pattern indicates that there is no relationshop between size and rating features ,also it is observed maximum apps have rating between 4 and 4.5 and maximum apps are sized between 0 to 20000 units and maximum number of maps are sizd between 20000 to 30000 units"
   ]
  },
  {
   "cell_type": "markdown",
   "id": "83c4da98",
   "metadata": {},
   "source": [
    "## 8. Effect of price on rating\n",
    "#### a. Make a jointplot (with regression line)"
   ]
  },
  {
   "cell_type": "code",
   "execution_count": 70,
   "id": "67d53bb4",
   "metadata": {},
   "outputs": [
    {
     "data": {
      "text/plain": [
       "<seaborn.axisgrid.JointGrid at 0x19a3123e040>"
      ]
     },
     "execution_count": 70,
     "metadata": {},
     "output_type": "execute_result"
    },
    {
     "data": {
      "image/png": "[encoded data removed]",
      "text/plain": [
       "<Figure size 432x432 with 3 Axes>"
      ]
     },
     "metadata": {
      "needs_background": "light"
     },
     "output_type": "display_data"
    }
   ],
   "source": [
    "sns.jointplot(x=df['Rating'],y=df['Price'],data=df,kind='reg')"
   ]
  },
  {
   "cell_type": "markdown",
   "id": "14f83020",
   "metadata": {},
   "source": [
    "#### b. What pattern do you see?"
   ]
  },
  {
   "cell_type": "markdown",
   "id": "e88140cf",
   "metadata": {},
   "source": [
    "#### *The plot at the centre shows that the features 'Rating' and 'Price' do not have any strong relationship.\n",
    "#### *The distribution of 'rating' plotted on top of plot horizontally shows the distribution is left skewed towards rating 3.5 and 5 which indicates max apps have been rated in between 4 and 4.5.\n",
    "#### *the distribution of 'price' plotted on right of plot vertically shows the distribution is heavily right skewed towards price 0  which indicates max apps have been priced 0 i.e are free."
   ]
  },
  {
   "cell_type": "markdown",
   "id": "91b552c2",
   "metadata": {},
   "source": [
    "#### c. How do you explain the pattern\n",
    "#### Answer- The pattern indicates that there is no relationshop between 'Price' and 'rating' features ,also it is observed maximum apps have rating between 4 and 4.5 and maximum apps are priced 0 i.e maximum apps are free."
   ]
  },
  {
   "cell_type": "markdown",
   "id": "b12ee29a",
   "metadata": {},
   "source": [
    "#### d. Replot the data, this time with only records with price > 0"
   ]
  },
  {
   "cell_type": "code",
   "execution_count": 71,
   "id": "ee51cce7",
   "metadata": {},
   "outputs": [],
   "source": [
    "df1= df.drop(df[df['Price'] <= 0].index)\n",
    "df1=df1[['Price','Rating']]\n"
   ]
  },
  {
   "cell_type": "code",
   "execution_count": 72,
   "id": "16b7d46f",
   "metadata": {},
   "outputs": [
    {
     "data": {
      "text/plain": [
       "<seaborn.axisgrid.JointGrid at 0x19a31467a60>"
      ]
     },
     "execution_count": 72,
     "metadata": {},
     "output_type": "execute_result"
    },
    {
     "data": {
      "image/png": "[encoded data removed]",
      "text/plain": [
       "<Figure size 432x432 with 3 Axes>"
      ]
     },
     "metadata": {
      "needs_background": "light"
     },
     "output_type": "display_data"
    }
   ],
   "source": [
    "sns.jointplot(x=df1['Rating'],y=df1['Price'],data=df1,kind='reg')\n"
   ]
  },
  {
   "cell_type": "markdown",
   "id": "c659c986",
   "metadata": {},
   "source": [
    "#### e. Does the pattern change?"
   ]
  },
  {
   "cell_type": "markdown",
   "id": "3ad8f72c",
   "metadata": {},
   "source": [
    "#### Yes the pattern slightly changes,the regression line deviates from straight line and tries to build a relationship but no profound relationship observed in the jointplot.The regression line moves from 0 to 5and above on Y axis after removng the datapoints having price as zero."
   ]
  },
  {
   "cell_type": "markdown",
   "id": "9c0222a1",
   "metadata": {},
   "source": [
    "#### f. What is your overall inference on the effect of price on the rating"
   ]
  },
  {
   "cell_type": "markdown",
   "id": "530ea021",
   "metadata": {},
   "source": [
    "#### The 'Price ' and 'Rating' feature does not show any solid relationship between them,this indocates that any change in price while not affect the rating of the app.Both the features are independent of each other."
   ]
  },
  {
   "cell_type": "markdown",
   "id": "6cb8859e",
   "metadata": {},
   "source": [
    "## 9. Look at all the numeric interactions together – \n",
    "#### a. Make a pairplort with the colulmns - 'Reviews', 'Size', 'Rating', 'Price'"
   ]
  },
  {
   "cell_type": "code",
   "execution_count": 73,
   "id": "5a9d23e2",
   "metadata": {},
   "outputs": [
    {
     "data": {
      "text/plain": [
       "<seaborn.axisgrid.PairGrid at 0x19a3263a820>"
      ]
     },
     "execution_count": 73,
     "metadata": {},
     "output_type": "execute_result"
    },
    {
     "data": {
      "image/png": "[encoded data removed]",
      "text/plain": [
       "<Figure size 720x720 with 20 Axes>"
      ]
     },
     "metadata": {
      "needs_background": "light"
     },
     "output_type": "display_data"
    }
   ],
   "source": [
    "sns.pairplot((df[['Reviews','Size','Rating','Price']]),kind='reg')"
   ]
  },
  {
   "cell_type": "markdown",
   "id": "7f8de05a",
   "metadata": {},
   "source": [
    "## 10. Rating vs. content rating"
   ]
  },
  {
   "cell_type": "markdown",
   "id": "5cae4229",
   "metadata": {},
   "source": [
    "#### a. Make a bar plot displaying the rating for each content rating"
   ]
  },
  {
   "cell_type": "code",
   "execution_count": 74,
   "id": "46fa3f60",
   "metadata": {},
   "outputs": [
    {
     "data": {
      "text/plain": [
       "<AxesSubplot:xlabel='Content Rating', ylabel='Rating'>"
      ]
     },
     "execution_count": 74,
     "metadata": {},
     "output_type": "execute_result"
    },
    {
     "data": {
      "image/png": "[encoded data removed]",
      "text/plain": [
       "<Figure size 432x288 with 1 Axes>"
      ]
     },
     "metadata": {
      "needs_background": "light"
     },
     "output_type": "display_data"
    }
   ],
   "source": [
    "from numpy import mean\n",
    "sns.barplot(x=df['Content Rating'],y=df['Rating'],data=df,ci=95)"
   ]
  },
  {
   "cell_type": "code",
   "execution_count": 75,
   "id": "f3989226",
   "metadata": {},
   "outputs": [
    {
     "data": {
      "text/plain": [
       "<AxesSubplot:xlabel='Content Rating', ylabel='Rating'>"
      ]
     },
     "execution_count": 75,
     "metadata": {},
     "output_type": "execute_result"
    },
    {
     "data": {
      "image/png": "[encoded data removed]",
      "text/plain": [
       "<Figure size 432x288 with 1 Axes>"
      ]
     },
     "metadata": {
      "needs_background": "light"
     },
     "output_type": "display_data"
    }
   ],
   "source": [
    "from numpy import median\n",
    "sns.barplot(x=df['Content Rating'],y=df['Rating'],data=df,estimator= median,ci=95)"
   ]
  },
  {
   "cell_type": "code",
   "execution_count": 76,
   "id": "26018613",
   "metadata": {},
   "outputs": [],
   "source": [
    "# from numpy import quantile\n",
    "# sns.barplot(x=df['Content Rating'],y=df['Rating'],data=df,estimator=np.quantile(df,1),ci=95)"
   ]
  },
  {
   "cell_type": "markdown",
   "id": "57b5566c",
   "metadata": {},
   "source": [
    "#### b. Which metric would you use? Mean? Median? Some other quantile?"
   ]
  },
  {
   "cell_type": "code",
   "execution_count": null,
   "id": "a4b5aeca",
   "metadata": {},
   "outputs": [],
   "source": []
  },
  {
   "cell_type": "code",
   "execution_count": 77,
   "id": "2e45b65e",
   "metadata": {},
   "outputs": [
    {
     "data": {
      "text/html": [
       "<div>\n",
       "<style scoped>\n",
       "    .dataframe tbody tr th:only-of-type {\n",
       "        vertical-align: middle;\n",
       "    }\n",
       "\n",
       "    .dataframe tbody tr th {\n",
       "        vertical-align: top;\n",
       "    }\n",
       "\n",
       "    .dataframe thead th {\n",
       "        text-align: right;\n",
       "    }\n",
       "</style>\n",
       "<table border=\"1\" class=\"dataframe\">\n",
       "  <thead>\n",
       "    <tr style=\"text-align: right;\">\n",
       "      <th></th>\n",
       "      <th>Rating</th>\n",
       "    </tr>\n",
       "  </thead>\n",
       "  <tbody>\n",
       "    <tr>\n",
       "      <th>count</th>\n",
       "      <td>8431.000000</td>\n",
       "    </tr>\n",
       "    <tr>\n",
       "      <th>mean</th>\n",
       "      <td>4.170763</td>\n",
       "    </tr>\n",
       "    <tr>\n",
       "      <th>std</th>\n",
       "      <td>0.533942</td>\n",
       "    </tr>\n",
       "    <tr>\n",
       "      <th>min</th>\n",
       "      <td>1.000000</td>\n",
       "    </tr>\n",
       "    <tr>\n",
       "      <th>25%</th>\n",
       "      <td>4.000000</td>\n",
       "    </tr>\n",
       "    <tr>\n",
       "      <th>50%</th>\n",
       "      <td>4.300000</td>\n",
       "    </tr>\n",
       "    <tr>\n",
       "      <th>75%</th>\n",
       "      <td>4.500000</td>\n",
       "    </tr>\n",
       "    <tr>\n",
       "      <th>max</th>\n",
       "      <td>5.000000</td>\n",
       "    </tr>\n",
       "  </tbody>\n",
       "</table>\n",
       "</div>"
      ],
      "text/plain": [
       "            Rating\n",
       "count  8431.000000\n",
       "mean      4.170763\n",
       "std       0.533942\n",
       "min       1.000000\n",
       "25%       4.000000\n",
       "50%       4.300000\n",
       "75%       4.500000\n",
       "max       5.000000"
      ]
     },
     "execution_count": 77,
     "metadata": {},
     "output_type": "execute_result"
    }
   ],
   "source": [
    "df2=df[['Content Rating','Rating']]\n",
    "df2\n",
    "df2.describe()"
   ]
  },
  {
   "cell_type": "markdown",
   "id": "90a97c1a",
   "metadata": {},
   "source": [
    "#### c. Choose the right metric and plot"
   ]
  },
  {
   "cell_type": "code",
   "execution_count": 78,
   "id": "8bbccb2f",
   "metadata": {},
   "outputs": [
    {
     "data": {
      "text/plain": [
       "<AxesSubplot:xlabel='Content Rating', ylabel='Rating'>"
      ]
     },
     "execution_count": 78,
     "metadata": {},
     "output_type": "execute_result"
    },
    {
     "data": {
      "image/png": "[encoded data removed]",
      "text/plain": [
       "<Figure size 432x288 with 1 Axes>"
      ]
     },
     "metadata": {
      "needs_background": "light"
     },
     "output_type": "display_data"
    }
   ],
   "source": [
    "from numpy import mean\n",
    "sns.barplot(x=df['Content Rating'],y=df['Rating'],data=df,estimator=median,ci=95)"
   ]
  },
  {
   "cell_type": "markdown",
   "id": "e1b2a93a",
   "metadata": {},
   "source": [
    "## 11. Content rating vs. size vs. rating – 3 variables at a time\n",
    "#### a. Create 5 buckets (20% records in each) based on Size"
   ]
  },
  {
   "cell_type": "code",
   "execution_count": 79,
   "id": "41a1e78a",
   "metadata": {},
   "outputs": [],
   "source": [
    "import numpy as np\n",
    "bins = np.linspace((min(df['Size'])),(max(df['Size'])),6)\n",
    "labels = ['tiny','small', 'medium', 'big','huge']"
   ]
  },
  {
   "cell_type": "code",
   "execution_count": 80,
   "id": "1e7495bf",
   "metadata": {},
   "outputs": [],
   "source": [
    "db = df[[\"Content Rating\", \"Size\",\"Rating\"]]"
   ]
  },
  {
   "cell_type": "code",
   "execution_count": 81,
   "id": "2e35329c",
   "metadata": {},
   "outputs": [
    {
     "data": {
      "text/html": [
       "<div>\n",
       "<style scoped>\n",
       "    .dataframe tbody tr th:only-of-type {\n",
       "        vertical-align: middle;\n",
       "    }\n",
       "\n",
       "    .dataframe tbody tr th {\n",
       "        vertical-align: top;\n",
       "    }\n",
       "\n",
       "    .dataframe thead th {\n",
       "        text-align: right;\n",
       "    }\n",
       "</style>\n",
       "<table border=\"1\" class=\"dataframe\">\n",
       "  <thead>\n",
       "    <tr style=\"text-align: right;\">\n",
       "      <th></th>\n",
       "      <th>Content Rating</th>\n",
       "      <th>Size</th>\n",
       "      <th>Rating</th>\n",
       "      <th>bins</th>\n",
       "    </tr>\n",
       "  </thead>\n",
       "  <tbody>\n",
       "    <tr>\n",
       "      <th>0</th>\n",
       "      <td>Everyone</td>\n",
       "      <td>19000.0</td>\n",
       "      <td>4.1</td>\n",
       "      <td>tiny</td>\n",
       "    </tr>\n",
       "    <tr>\n",
       "      <th>1</th>\n",
       "      <td>Everyone</td>\n",
       "      <td>14000.0</td>\n",
       "      <td>3.9</td>\n",
       "      <td>tiny</td>\n",
       "    </tr>\n",
       "    <tr>\n",
       "      <th>2</th>\n",
       "      <td>Everyone</td>\n",
       "      <td>8700.0</td>\n",
       "      <td>4.7</td>\n",
       "      <td>tiny</td>\n",
       "    </tr>\n",
       "    <tr>\n",
       "      <th>4</th>\n",
       "      <td>Everyone</td>\n",
       "      <td>2800.0</td>\n",
       "      <td>4.3</td>\n",
       "      <td>tiny</td>\n",
       "    </tr>\n",
       "    <tr>\n",
       "      <th>5</th>\n",
       "      <td>Everyone</td>\n",
       "      <td>5600.0</td>\n",
       "      <td>4.4</td>\n",
       "      <td>tiny</td>\n",
       "    </tr>\n",
       "  </tbody>\n",
       "</table>\n",
       "</div>"
      ],
      "text/plain": [
       "  Content Rating     Size  Rating  bins\n",
       "0       Everyone  19000.0     4.1  tiny\n",
       "1       Everyone  14000.0     3.9  tiny\n",
       "2       Everyone   8700.0     4.7  tiny\n",
       "4       Everyone   2800.0     4.3  tiny\n",
       "5       Everyone   5600.0     4.4  tiny"
      ]
     },
     "execution_count": 81,
     "metadata": {},
     "output_type": "execute_result"
    }
   ],
   "source": [
    "db['bins'] = pd.cut(df['Size'], bins=bins, labels=labels, include_lowest=True)\n",
    "db.head()"
   ]
  },
  {
   "cell_type": "markdown",
   "id": "937d62f3",
   "metadata": {},
   "source": [
    "#### b. By Content Rating vs. Size buckets, get the rating (20th percentile) for each combination"
   ]
  },
  {
   "cell_type": "code",
   "execution_count": 82,
   "id": "19cc2d59",
   "metadata": {},
   "outputs": [],
   "source": [
    "dt = db[[\"Rating\", \"bins\"]]"
   ]
  },
  {
   "cell_type": "code",
   "execution_count": 83,
   "id": "5101bee1",
   "metadata": {},
   "outputs": [
    {
     "data": {
      "text/html": [
       "<div>\n",
       "<style scoped>\n",
       "    .dataframe tbody tr th:only-of-type {\n",
       "        vertical-align: middle;\n",
       "    }\n",
       "\n",
       "    .dataframe tbody tr th {\n",
       "        vertical-align: top;\n",
       "    }\n",
       "\n",
       "    .dataframe thead th {\n",
       "        text-align: right;\n",
       "    }\n",
       "</style>\n",
       "<table border=\"1\" class=\"dataframe\">\n",
       "  <thead>\n",
       "    <tr style=\"text-align: right;\">\n",
       "      <th></th>\n",
       "      <th>percentile_20</th>\n",
       "    </tr>\n",
       "    <tr>\n",
       "      <th>bins</th>\n",
       "      <th></th>\n",
       "    </tr>\n",
       "  </thead>\n",
       "  <tbody>\n",
       "    <tr>\n",
       "      <th>tiny</th>\n",
       "      <td>3.8</td>\n",
       "    </tr>\n",
       "    <tr>\n",
       "      <th>small</th>\n",
       "      <td>3.9</td>\n",
       "    </tr>\n",
       "    <tr>\n",
       "      <th>medium</th>\n",
       "      <td>3.9</td>\n",
       "    </tr>\n",
       "    <tr>\n",
       "      <th>big</th>\n",
       "      <td>4.0</td>\n",
       "    </tr>\n",
       "    <tr>\n",
       "      <th>huge</th>\n",
       "      <td>4.0</td>\n",
       "    </tr>\n",
       "  </tbody>\n",
       "</table>\n",
       "</div>"
      ],
      "text/plain": [
       "        percentile_20\n",
       "bins                 \n",
       "tiny              3.8\n",
       "small             3.9\n",
       "medium            3.9\n",
       "big               4.0\n",
       "huge              4.0"
      ]
     },
     "execution_count": 83,
     "metadata": {},
     "output_type": "execute_result"
    }
   ],
   "source": [
    "from numpy import percentile\n",
    "dg=dt.groupby(['bins']).agg(percentile_20 = ('Rating',lambda x: x.quantile(0.2)))\n",
    "dg\n"
   ]
  },
  {
   "cell_type": "markdown",
   "id": "b5543801",
   "metadata": {},
   "source": [
    "#### c. Make a heatmap of this\n",
    "#### i. Annotated\n",
    "#### ii. Greens color map"
   ]
  },
  {
   "cell_type": "code",
   "execution_count": 84,
   "id": "3f1d7b95",
   "metadata": {},
   "outputs": [
    {
     "data": {
      "text/html": [
       "<div>\n",
       "<style scoped>\n",
       "    .dataframe tbody tr th:only-of-type {\n",
       "        vertical-align: middle;\n",
       "    }\n",
       "\n",
       "    .dataframe tbody tr th {\n",
       "        vertical-align: top;\n",
       "    }\n",
       "\n",
       "    .dataframe thead th {\n",
       "        text-align: right;\n",
       "    }\n",
       "</style>\n",
       "<table border=\"1\" class=\"dataframe\">\n",
       "  <thead>\n",
       "    <tr style=\"text-align: right;\">\n",
       "      <th></th>\n",
       "      <th>Content Rating</th>\n",
       "      <th>Size</th>\n",
       "      <th>Rating</th>\n",
       "      <th>bins</th>\n",
       "    </tr>\n",
       "  </thead>\n",
       "  <tbody>\n",
       "    <tr>\n",
       "      <th>0</th>\n",
       "      <td>0</td>\n",
       "      <td>19000.0</td>\n",
       "      <td>4.1</td>\n",
       "      <td>4</td>\n",
       "    </tr>\n",
       "    <tr>\n",
       "      <th>1</th>\n",
       "      <td>0</td>\n",
       "      <td>14000.0</td>\n",
       "      <td>3.9</td>\n",
       "      <td>4</td>\n",
       "    </tr>\n",
       "    <tr>\n",
       "      <th>2</th>\n",
       "      <td>0</td>\n",
       "      <td>8700.0</td>\n",
       "      <td>4.7</td>\n",
       "      <td>4</td>\n",
       "    </tr>\n",
       "    <tr>\n",
       "      <th>4</th>\n",
       "      <td>0</td>\n",
       "      <td>2800.0</td>\n",
       "      <td>4.3</td>\n",
       "      <td>4</td>\n",
       "    </tr>\n",
       "    <tr>\n",
       "      <th>5</th>\n",
       "      <td>0</td>\n",
       "      <td>5600.0</td>\n",
       "      <td>4.4</td>\n",
       "      <td>4</td>\n",
       "    </tr>\n",
       "  </tbody>\n",
       "</table>\n",
       "</div>"
      ],
      "text/plain": [
       "   Content Rating     Size  Rating  bins\n",
       "0               0  19000.0     4.1     4\n",
       "1               0  14000.0     3.9     4\n",
       "2               0   8700.0     4.7     4\n",
       "4               0   2800.0     4.3     4\n",
       "5               0   5600.0     4.4     4"
      ]
     },
     "execution_count": 84,
     "metadata": {},
     "output_type": "execute_result"
    }
   ],
   "source": [
    "from sklearn.preprocessing import LabelEncoder\n",
    "lr = LabelEncoder()\n",
    "db['Content Rating'] = lr.fit_transform(db['Content Rating'])\n",
    "db['bins'] = lr.fit_transform(db['bins'])\n",
    "db.head()"
   ]
  },
  {
   "cell_type": "code",
   "execution_count": 85,
   "id": "41c3ed3f",
   "metadata": {},
   "outputs": [
    {
     "data": {
      "text/plain": [
       "<AxesSubplot:>"
      ]
     },
     "execution_count": 85,
     "metadata": {},
     "output_type": "execute_result"
    },
    {
     "data": {
      "image/png": "[encoded data removed]",
      "text/plain": [
       "<Figure size 432x288 with 2 Axes>"
      ]
     },
     "metadata": {
      "needs_background": "light"
     },
     "output_type": "display_data"
    }
   ],
   "source": [
    "sns.heatmap(db,annot=True)"
   ]
  },
  {
   "cell_type": "markdown",
   "id": "4c4e8734",
   "metadata": {},
   "source": [
    "#### d. What’s your inference? Are lighter apps preferred in all categories? Heavier? Some?"
   ]
  },
  {
   "cell_type": "code",
   "execution_count": 88,
   "id": "748ba74d",
   "metadata": {},
   "outputs": [
    {
     "data": {
      "image/png": "[encoded data removed]",
      "text/plain": [
       "<Figure size 432x288 with 2 Axes>"
      ]
     },
     "metadata": {
      "needs_background": "light"
     },
     "output_type": "display_data"
    }
   ],
   "source": [
    "sns.heatmap(db, cmap=\"Greens\")\n",
    "plt.show()"
   ]
  },
  {
   "cell_type": "code",
   "execution_count": null,
   "id": "60931392",
   "metadata": {},
   "outputs": [],
   "source": []
  }
 ],
 "metadata": {
  "kernelspec": {
   "display_name": "Python 3 (ipykernel)",
   "language": "python",
   "name": "python3"
  },
  "language_info": {
   "codemirror_mode": {
    "name": "ipython",
    "version": 3
   },
   "file_extension": ".py",
   "mimetype": "text/x-python",
   "name": "python",
   "nbconvert_exporter": "python",
   "pygments_lexer": "ipython3",
   "version": "3.9.7"
  }
 },
 "nbformat": 4,
 "nbformat_minor": 5
}
